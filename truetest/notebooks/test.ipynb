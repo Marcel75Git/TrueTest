{
 "cells": [
  {
   "cell_type": "code",
   "execution_count": 1,
   "metadata": {},
   "outputs": [],
   "source": [
    "import pandas as pd"
   ]
  },
  {
   "cell_type": "code",
   "execution_count": null,
   "metadata": {},
   "outputs": [],
   "source": []
  },
  {
   "cell_type": "code",
   "execution_count": 4,
   "metadata": {},
   "outputs": [],
   "source": [
    "csvfiles = pd.read_csv('/Users/mfoulouyvesmarcel/Desktop/csvfiles/CombineAll.csv', low_memory=False)"
   ]
  },
  {
   "cell_type": "code",
   "execution_count": 3,
   "metadata": {},
   "outputs": [
    {
     "data": {
      "text/html": [
       "<div>\n",
       "<style scoped>\n",
       "    .dataframe tbody tr th:only-of-type {\n",
       "        vertical-align: middle;\n",
       "    }\n",
       "\n",
       "    .dataframe tbody tr th {\n",
       "        vertical-align: top;\n",
       "    }\n",
       "\n",
       "    .dataframe thead th {\n",
       "        text-align: right;\n",
       "    }\n",
       "</style>\n",
       "<table border=\"1\" class=\"dataframe\">\n",
       "  <thead>\n",
       "    <tr style=\"text-align: right;\">\n",
       "      <th></th>\n",
       "      <th>sensor</th>\n",
       "      <th>value</th>\n",
       "      <th>time</th>\n",
       "    </tr>\n",
       "  </thead>\n",
       "  <tbody>\n",
       "    <tr>\n",
       "      <td>0</td>\n",
       "      <td>H-DHT22</td>\n",
       "      <td>15.7</td>\n",
       "      <td>2017-12-19T14:07:18Z</td>\n",
       "    </tr>\n",
       "    <tr>\n",
       "      <td>1</td>\n",
       "      <td>H-DHT22</td>\n",
       "      <td>15.7</td>\n",
       "      <td>2017-12-19T14:07:25Z</td>\n",
       "    </tr>\n",
       "    <tr>\n",
       "      <td>2</td>\n",
       "      <td>H-DHT22</td>\n",
       "      <td>15.7</td>\n",
       "      <td>2017-12-19T14:07:32Z</td>\n",
       "    </tr>\n",
       "    <tr>\n",
       "      <td>3</td>\n",
       "      <td>H-DHT22</td>\n",
       "      <td>15.7</td>\n",
       "      <td>2017-12-19T14:07:38Z</td>\n",
       "    </tr>\n",
       "    <tr>\n",
       "      <td>4</td>\n",
       "      <td>H-DHT22</td>\n",
       "      <td>15.7</td>\n",
       "      <td>2017-12-19T14:07:45Z</td>\n",
       "    </tr>\n",
       "    <tr>\n",
       "      <td>...</td>\n",
       "      <td>...</td>\n",
       "      <td>...</td>\n",
       "      <td>...</td>\n",
       "    </tr>\n",
       "    <tr>\n",
       "      <td>8574578</td>\n",
       "      <td>T-DHT22</td>\n",
       "      <td>27.4</td>\n",
       "      <td>2018-03-13T11:41:54Z</td>\n",
       "    </tr>\n",
       "    <tr>\n",
       "      <td>8574579</td>\n",
       "      <td>T-DHT22</td>\n",
       "      <td>27.4</td>\n",
       "      <td>2018-03-13T11:41:58Z</td>\n",
       "    </tr>\n",
       "    <tr>\n",
       "      <td>8574580</td>\n",
       "      <td>T-DHT22</td>\n",
       "      <td>27.5</td>\n",
       "      <td>2018-03-13T11:42:02Z</td>\n",
       "    </tr>\n",
       "    <tr>\n",
       "      <td>8574581</td>\n",
       "      <td>T-DHT22</td>\n",
       "      <td>27.4</td>\n",
       "      <td>2018-03-13T11:42:06Z</td>\n",
       "    </tr>\n",
       "    <tr>\n",
       "      <td>8574582</td>\n",
       "      <td>T-DHT22</td>\n",
       "      <td>27.4</td>\n",
       "      <td>2018-03-13T11:42:10Z</td>\n",
       "    </tr>\n",
       "  </tbody>\n",
       "</table>\n",
       "<p>8574583 rows × 3 columns</p>\n",
       "</div>"
      ],
      "text/plain": [
       "          sensor value                  time\n",
       "0        H-DHT22  15.7  2017-12-19T14:07:18Z\n",
       "1        H-DHT22  15.7  2017-12-19T14:07:25Z\n",
       "2        H-DHT22  15.7  2017-12-19T14:07:32Z\n",
       "3        H-DHT22  15.7  2017-12-19T14:07:38Z\n",
       "4        H-DHT22  15.7  2017-12-19T14:07:45Z\n",
       "...          ...   ...                   ...\n",
       "8574578  T-DHT22  27.4  2018-03-13T11:41:54Z\n",
       "8574579  T-DHT22  27.4  2018-03-13T11:41:58Z\n",
       "8574580  T-DHT22  27.5  2018-03-13T11:42:02Z\n",
       "8574581  T-DHT22  27.4  2018-03-13T11:42:06Z\n",
       "8574582  T-DHT22  27.4  2018-03-13T11:42:10Z\n",
       "\n",
       "[8574583 rows x 3 columns]"
      ]
     },
     "execution_count": 3,
     "metadata": {},
     "output_type": "execute_result"
    }
   ],
   "source": [
    "csvfiles"
   ]
  },
  {
   "cell_type": "code",
   "execution_count": 5,
   "metadata": {},
   "outputs": [
    {
     "ename": "TypeError",
     "evalue": "'tuple' object is not callable",
     "output_type": "error",
     "traceback": [
      "\u001b[0;31m---------------------------------------------------------------------------\u001b[0m",
      "\u001b[0;31mTypeError\u001b[0m                                 Traceback (most recent call last)",
      "\u001b[0;32m<ipython-input-5-3c0a2491546f>\u001b[0m in \u001b[0;36m<module>\u001b[0;34m\u001b[0m\n\u001b[0;32m----> 1\u001b[0;31m \u001b[0mcsvfiles\u001b[0m\u001b[0;34m.\u001b[0m\u001b[0mshape\u001b[0m\u001b[0;34m(\u001b[0m\u001b[0;34m)\u001b[0m\u001b[0;34m\u001b[0m\u001b[0;34m\u001b[0m\u001b[0m\n\u001b[0m",
      "\u001b[0;31mTypeError\u001b[0m: 'tuple' object is not callable"
     ]
    }
   ],
   "source": [
    "csvfiles.shape()"
   ]
  },
  {
   "cell_type": "code",
   "execution_count": 6,
   "metadata": {},
   "outputs": [
    {
     "data": {
      "text/plain": [
       "(8574583, 3)"
      ]
     },
     "execution_count": 6,
     "metadata": {},
     "output_type": "execute_result"
    }
   ],
   "source": [
    "csvfiles.shape\n"
   ]
  },
  {
   "cell_type": "code",
   "execution_count": 8,
   "metadata": {},
   "outputs": [
    {
     "data": {
      "text/plain": [
       "sensor    0\n",
       "value     0\n",
       "time      0\n",
       "dtype: int64"
      ]
     },
     "execution_count": 8,
     "metadata": {},
     "output_type": "execute_result"
    }
   ],
   "source": [
    "csvfiles.isnull().sum()"
   ]
  },
  {
   "cell_type": "code",
   "execution_count": 11,
   "metadata": {},
   "outputs": [
    {
     "data": {
      "text/html": [
       "<div>\n",
       "<style scoped>\n",
       "    .dataframe tbody tr th:only-of-type {\n",
       "        vertical-align: middle;\n",
       "    }\n",
       "\n",
       "    .dataframe tbody tr th {\n",
       "        vertical-align: top;\n",
       "    }\n",
       "\n",
       "    .dataframe thead th {\n",
       "        text-align: right;\n",
       "    }\n",
       "</style>\n",
       "<table border=\"1\" class=\"dataframe\">\n",
       "  <thead>\n",
       "    <tr style=\"text-align: right;\">\n",
       "      <th></th>\n",
       "      <th>sensor</th>\n",
       "      <th>value</th>\n",
       "      <th>time</th>\n",
       "    </tr>\n",
       "  </thead>\n",
       "  <tbody>\n",
       "  </tbody>\n",
       "</table>\n",
       "</div>"
      ],
      "text/plain": [
       "Empty DataFrame\n",
       "Columns: [sensor, value, time]\n",
       "Index: []"
      ]
     },
     "execution_count": 11,
     "metadata": {},
     "output_type": "execute_result"
    }
   ],
   "source": [
    "csvfiles[csvfiles.time.isnull()]"
   ]
  },
  {
   "cell_type": "code",
   "execution_count": 14,
   "metadata": {},
   "outputs": [
    {
     "data": {
      "text/plain": [
       "Index(['sensor', 'value', 'time'], dtype='object')"
      ]
     },
     "execution_count": 14,
     "metadata": {},
     "output_type": "execute_result"
    }
   ],
   "source": [
    "csvfiles.columns"
   ]
  },
  {
   "cell_type": "code",
   "execution_count": null,
   "metadata": {},
   "outputs": [],
   "source": []
  },
  {
   "cell_type": "code",
   "execution_count": null,
   "metadata": {},
   "outputs": [],
   "source": []
  },
  {
   "cell_type": "code",
   "execution_count": null,
   "metadata": {},
   "outputs": [],
   "source": []
  }
 ],
 "metadata": {
  "kernelspec": {
   "display_name": "Python 3",
   "language": "python",
   "name": "python3"
  },
  "language_info": {
   "codemirror_mode": {
    "name": "ipython",
    "version": 3
   },
   "file_extension": ".py",
   "mimetype": "text/x-python",
   "name": "python",
   "nbconvert_exporter": "python",
   "pygments_lexer": "ipython3",
   "version": "3.7.4"
  }
 },
 "nbformat": 4,
 "nbformat_minor": 2
}
